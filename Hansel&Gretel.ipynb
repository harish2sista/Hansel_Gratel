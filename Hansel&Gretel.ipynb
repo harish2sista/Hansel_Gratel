{
 "cells": [
  {
   "cell_type": "markdown",
   "id": "b437d9fe-04d3-4b8b-8cfd-50f1ceeecfb9",
   "metadata": {},
   "source": [
    "# Hansel & Gretel journey through Manhattan using Prompt Engineering\n",
    "\n",
    "## Capter 1: Manhatten House\n",
    "\n",
    "Once upon a time, a brother and sister named Hansel and Gretel moved into an apartment near Union Square(14th E 14th St) with their father and mother, who were software developers. \n",
    "\n",
    "The father and mother are always busy with their work and have very little time to spend with their kids. Given the amount of \"How to Program with AI\" books in their house, the brother and sister developed an interest in using LLMs. \n",
    "\n",
    "One day, they both decided to go on a little adventure with the help of an AI assistant their parents built for them.  "
   ]
  },
  {
   "cell_type": "markdown",
   "id": "e01d75f4-b33e-433c-a61d-c42a5e88613d",
   "metadata": {},
   "source": [
    "## Chapter 2: Home to Hex & Company\n",
    "\n",
    "One day, they both decided to visit Hex & Company(boardgame cafe), and they both wanted to make some stops at: \n",
    "1) Book Store.\n",
    "2) Pizza Restaurant.\n",
    "3) Art Store.\n",
    "4) Ice Cream Store.\n",
    "\n",
    "Hansel and Gretel are picky on certain things. These are their requirements. \n",
    "\n",
    "Hansel's Requirements:\n",
    "1) Brick oven white pizza < 30$(like Neapolitan-Style fungi pizza).\n",
    "2) Buy an old classic novel about a young prince(like \"The prince and the pauper\").\n",
    "3) Pastel large color set(like \"Sennelier Soft Pastels - Set of 100\").\n",
    "4) Hansel wants chocolate cookie dough ice cream.\n",
    "\n",
    "Gratel's Requirements:\n",
    "1) Fancy pizza toppings (like grilled eggplant).\n",
    "2) Buy comics (like \"One Piece\").\n",
    "3) Quality Sketch pencil set (like \"Derwent Graphic Pencil Set\").\n",
    "4) Gratel wants chocolate vanilla soft serve. "
   ]
  },
  {
   "cell_type": "code",
   "execution_count": 1,
   "id": "2e3b9e58-b57b-4ba0-81a0-667e460bc5e5",
   "metadata": {},
   "outputs": [],
   "source": [
    "from openai import OpenAI\n",
    "from resumeassistant.operator.worker import ImageWorker, TextWorker\n",
    "import json\n",
    "\n",
    "with open('gpt_key.json', 'r') as file:\n",
    "      data = json.load(file)\n",
    "      api_key = data[\"open_ai_key\"]\n",
    "client = OpenAI(api_key=api_key)"
   ]
  },
  {
   "cell_type": "markdown",
   "id": "a36457f7-db19-41cd-8164-08b8517bfa8f",
   "metadata": {},
   "source": [
    "### Zero-Shot Prompting:\n",
    "A zero-shot prompt technique is where the system is provided with a task prompt with no examples."
   ]
  },
  {
   "cell_type": "code",
   "execution_count": 3,
   "id": "67abc09f-d0a7-498c-8428-1b781e3f4f8c",
   "metadata": {},
   "outputs": [
    {
     "name": "stdout",
     "output_type": "stream",
     "text": [
      "Based on your requirements and the addresses provided, here are some recommended stops between your origin and destination:\n",
      "\n",
      "### 1. Brick Oven Pizza Restaurant (Cost < $30)\n",
      "- **Patsy’s Pizzeria**\n",
      "  - **Address:** 2287 1st Ave, New York, NY 10035\n",
      "  - **Distance:** Approximately 1.5 miles from your starting point and along your route.\n",
      "  - **Price Range:** Pizza slices around $4-$6.\n",
      "  \n",
      "### 2. Bookstore (Classics and Comics)\n",
      "- **Strand Bookstore**\n",
      "  - **Address:** 828 Broadway, New York, NY 10003\n",
      "  - **Distance:** About 0.5 miles from your origin.\n",
      "  - **Specialty:** Known for a vast selection of new, used, and rare books, including classics and a great comic book section.\n",
      "\n",
      "### 3. Store to Buy Pencils and Colors\n",
      "- **Micucci’s Art Supply**\n",
      "  - **Address:** 929 Broadway, New York, NY 10010\n",
      "  - **Distance:** Roughly 0.8 miles from the Strand Bookstore.\n",
      "  - **Inventory:** They offer a wide variety of art supplies, including pencils and colors.\n",
      "\n",
      "### 4. Ice Cream Store\n",
      "- **Ample Hills Creamery**\n",
      "  - **Address:** 50 E 17th St, New York, NY 10003\n",
      "  - **Distance:** About 0.6 miles from Micucci’s Art Supply.\n",
      "  - **Specialty:** Famous for unique and delicious flavors.\n",
      "\n",
      "### Route Overview\n",
      "- Start at **14 E 14th St, New York, NY 10003**.\n",
      "- Stop by **Strand Bookstore** (0.5 miles).\n",
      "- Visit **Micucci’s Art Supply** (0.8 miles).\n",
      "- Grab a bite at **Patsy’s Pizzeria** (1.5 miles).\n",
      "- Enjoy some ice cream at **Ample Hills Creamery** (0.6 miles).\n",
      "- Continue to your destination at **1462 1st Ave, New York, NY 10075**.\n",
      "\n",
      "This route allows you to fulfill all of your requirements while enjoying various stops. Make sure to check the opening hours of each location before your visit!\n"
     ]
    }
   ],
   "source": [
    "zero_sys_prompt = \"You are a pathfinder, given the #origin_address and #destinantion_address \\\n",
    "                find the stops that can be made #origin_address and #destinantion_address where the requirements can be purchased.\"\n",
    "zero_user_promopt = \"#origin_address: 14 E 14th St, New York, NY 10003\\n \\\n",
    "#destinantion_address: 1462 1st Ave., New York, NY 10075\\n \\\n",
    "#requirements: I want to make stops at \\\n",
    "        1. Brick oven pizza restaurant cost < 30$. \\\n",
    "        2. Bookstore which sells classics and comics. \\\n",
    "        3. Store to buy pencils and colors. \\\n",
    "        4. ice cream store.\"\n",
    "\n",
    "\n",
    "zero_prompt_worker = TextWorker(client=client, model_id=\"gpt-4o-mini\", sys_prompt=zero_sys_prompt, user_prompt=zero_user_promopt)\n",
    "zero_prompt_op = zero_prompt_worker.get_output()\n",
    "print(zero_prompt_op)"
   ]
  },
  {
   "cell_type": "markdown",
   "id": "2802ab62-2e42-4c65-8504-5456fdc61611",
   "metadata": {},
   "source": [
    "### One-Shot/Few-Shot Prompting\n",
    "In this prompting technique the system is provided with examples to get the desired outcome. "
   ]
  },
  {
   "cell_type": "code",
   "execution_count": 4,
   "id": "8b91be6e-1551-4caf-b9af-ac33843bf820",
   "metadata": {},
   "outputs": [
    {
     "name": "stdout",
     "output_type": "stream",
     "text": [
      "Here are some suggested stops you can make along your route from 14 E 14th St, New York, NY 10003 to 1462 1st Ave, New York, NY 10075 that meet your requirements:\n",
      "\n",
      "### 1. Brick Oven Pizza Restaurant\n",
      "**Restaurant Suggestion: John’s of 12th Street**  \n",
      "- **Address:** 248 E 12th St, New York, NY 10003  \n",
      "- **Menu Highlights:** Offers pizzas with a variety of toppings. Prices for most pizza options are under $30.  \n",
      "- **Example Pizzas:** Neapolitan-Style fungi pizza and grilled eggplant pizza.\n",
      "\n",
      "### 2. Bookstore\n",
      "**Bookstore Suggestion: The Strand Bookstore**  \n",
      "- **Address:** 828 Broadway, New York, NY 10003  \n",
      "- **Description:** Known for its extensive collection of new, used, and rare books. You'll find both classic novels and a wide range of comics here.  \n",
      "- **Classics Available:** The Prince and the Pauper, Iliad.  \n",
      "- **Comics Available:** One Piece, Sword Art Online.\n",
      "\n",
      "### 3. Store to Buy Pencils and Colors\n",
      "**Store Suggestion: Blick Art Materials**  \n",
      "- **Address:** 1 Bond St, New York, NY 10012 (a bit of a detour but accessible)  \n",
      "- **Description:** A popular art supply store where you can find a range of art supplies including pencils and colors.  \n",
      "- **Example Products:** Derwent Graphic Pencil Set, Sennelier Soft Pastels - Set of 100.\n",
      "\n",
      "### 4. Ice Cream Store\n",
      "**Ice Cream Store Suggestion: Van Leeuwen Ice Cream**  \n",
      "- **Address:** 103 Van Duzer St, Staten Island, NY 10301 (or another location if needed)  \n",
      "- **Menu Highlights:** Offers a variety of classic and unique ice cream flavors.  \n",
      "- **Example Ice Cream Types:** Chocolate cookie dough, chocolate vanilla soft serve.\n",
      "\n",
      "### Route Adjustment:\n",
      "You might need to adjust your route slightly to accommodate each stop, but they are generally within a reasonable distance from your origin and destination. Remember to check the store's opening hours and availability of your desired items. Enjoy your trip!\n"
     ]
    }
   ],
   "source": [
    "ofs_sys_prompt = \"You are a pathfinder, given the #origin_address and #destinantion_address \\\n",
    "                find the stops that can be made #origin_address and #destinantion_address where the requirements can be purchased.\"\n",
    "ofs_user_promopt = \"#origin_address: 14 E 14th St, New York, NY 10003\\n \\\n",
    "#destinantion_address: 1462 1st Ave., New York, NY 10075\\n \\\n",
    "#requirements: I want to make stops at \\\n",
    "        1. Brick oven pizza restaurant cost < 30$. \\\n",
    "            Example: Neapolitan-Style fungi pizza, grilled eggplant pizza \\\n",
    "        2. Bookstore which sells classics and comics. \\\n",
    "            Classic novels example: The Prince and the Pauper, Illiad. \\\n",
    "            Comics example: One Piece, Sword Art Online\\\n",
    "        3. Store to buy pencils and colors. \\\n",
    "            Colors example: Sennelier Soft Pastels - Set of 100 \\\n",
    "            Pencils example: Derwent Graphic Pencil Set \\\n",
    "        4. ice cream store. \\\n",
    "            ice cream types example: chocolate cookie dough, chocolate vanilla soft serve.\"\n",
    "\n",
    "\n",
    "ofs_prompt_worker = TextWorker(client=client, model_id=\"gpt-4o-mini\", sys_prompt=ofs_sys_prompt, user_prompt=ofs_user_promopt)\n",
    "ofs_prompt_op = ofs_prompt_worker.get_output()\n",
    "print(ofs_prompt_op)"
   ]
  },
  {
   "cell_type": "markdown",
   "id": "4c8c3a06-751a-4858-b14b-c95138c02cd9",
   "metadata": {},
   "source": [
    "## Chapter 3: AI competition at Hex & Co. \n",
    "Hansel and Gretel are participating in an AI competition in which the smartness of AI assistants is tested against each other in three rounds. \n",
    "All AI assistants should use the same LLM but improve the AI assistant performance using prompt engineering techniques. \n",
    "\n",
    "### Round 1: Problem-solving \n",
    "     In this round, random mathematical problems are given to all participating AI assistants, and the best-performing model is selected as the winner. \n",
    "### Round 2: Who am I?\n",
    "    In this round, verbal cues are given to your AI about the random person on the stage. Your AI assistant needs to guess who this person is correctly. (You can feed your AI assistant with all the knowledge you accumulated from interacting with them).\n",
    "\n",
    "### Round 3: About me? \n",
    "    Your opponent will give your AI assistant a description of themselves along with some irrelevant information. Based on this description, your AI assistant should answer your opponent's questions correctly.\n"
   ]
  },
  {
   "cell_type": "markdown",
   "id": "c2fdcdae-93b7-4e05-86d9-d8c7c9f8f58a",
   "metadata": {},
   "source": [
    "# Problem-Solving\n",
    "Question: If any four numbers are selected, and they are multiplied, then the probability that the last digit will be 1, 3, 5 or 9 is ___________. \n",
    "\n",
    "Ref-(JEE-2023)\n",
    "## Zeroshot Prompting"
   ]
  },
  {
   "cell_type": "code",
   "execution_count": 34,
   "id": "bc72e0bf-1a16-402d-9e1a-21fa59bb8488",
   "metadata": {},
   "outputs": [
    {
     "name": "stdout",
     "output_type": "stream",
     "text": [
      "To determine the probability that the last digit of the product of four numbers will be 1, 3, 5, or 9, we first need to examine the last digits of numbers and their properties when multiplied.\n",
      "\n",
      "The last digits of integers can be 0, 1, 2, 3, 4, 5, 6, 7, 8, or 9. The last digit of a product depends on the last digits of the numbers being multiplied.\n",
      "\n",
      "The last digits that yield a product ending in 1, 3, 5, or 9 are as follows:\n",
      "\n",
      "- A product ends in **1** if the last digits are combinations of (1, 3, 7, 9) that multiply to give 1 mod 10.\n",
      "- A product ends in **3** has similar criteria involving (1, 3, 7, 9).\n",
      "- A product ends in **5** requires at least one number to end in 5.\n",
      "- A product ends in **9** also involves (1, 3, 7, 9) combinations.\n",
      "\n",
      "However, notice that if any of the last digits of the four selected numbers is 0, 2, 4, 6, or 8, the product cannot end in 1, 3, 5, or 9. Therefore, we only consider the selection of last digits limited to 1, 3, 5, 7, 9.\n",
      "\n",
      "The last digit options that can lead to a product resulting in 1, 3, 5, or 9 are 1, 3, 5, 7, or 9. Here’s the breakdown:\n",
      "- If you select any of these digits, then combinations of last digits from these numbers would need to be calculated.\n",
      "  \n",
      "Overall, the total count of last digit options is 10 (0 through 9). The digits that can lead to a product that last digit is either 1, 3, 5, or 9 exclude the even digits and the digit 5 does not help in getting a result of 1, 3, 5, or 9 without being combined with appropriate digits.\n",
      "\n",
      "Towards the calculation of probability:\n",
      "- Favorable outcomes (last digit = 1, 3, 5, 7, 9): 5 outcomes (1, 3, 5, 7, 9)\n",
      "- Total possible outcomes: 10 (0 through 9)\n",
      "\n",
      "Thus, when selecting 4 digits randomly and calculating the probability of getting at least one last digit to produce a favorable outcome leading to 1, 3, 5, or 9 becomes complex as it deals with outcomes of inclusive and exclusive of zero definitions.\n",
      "\n",
      "Hence, after evaluating robustness against outcomes and considering the cases, the probability simplifies under mutual combinability distributions.\n",
      "\n",
      "Thus the probability that the last digit of the product of any four numbers will be either 1, 3, 5, or 9 is:\n",
      "\n",
      "\\[\n",
      "\\frac{5}{10} = \\frac{1}{2} = 0.5\n",
      "\\]\n",
      "\n",
      "Therefore, the answer is **0.5**.\n"
     ]
    }
   ],
   "source": [
    "ps0_sys_prompt = \"You are a problem solver. Given the #Question by the user, please answer it appropriately.\"\n",
    "ps0_user_promt = \"#Question: If any four numbers are selected, and they are multiplied, \\\n",
    "then the probability that the last digit will be 1, 3, 5 or 9 is ___________.\"\n",
    "\n",
    "ps0_prompt_worker = TextWorker(client=client, model_id=\"gpt-4o-mini\", sys_prompt=ps0_sys_prompt, user_prompt=ps0_user_promt)\n",
    "ps0_prompt_op = ps0_prompt_worker.get_output()\n",
    "print(ps0_prompt_op)\n"
   ]
  },
  {
   "cell_type": "markdown",
   "id": "9fbbdb87-e8e6-45b1-a3e3-5d06df05299d",
   "metadata": {},
   "source": [
    "## Chain of Thought Prompting\n",
    "\n",
    "The variant Auto-COT uses sorted examples by clustering and retrieving the most relevant example for thought processing. "
   ]
  },
  {
   "cell_type": "code",
   "execution_count": 37,
   "id": "67db894d-d6d9-456a-80b0-ea49acb3ef1c",
   "metadata": {},
   "outputs": [
    {
     "name": "stdout",
     "output_type": "stream",
     "text": [
      "To determine the probability that the last digit of the product of four selected numbers will be 1, 3, 5, or 9, we can follow a similar reasoning as in the provided example.\n",
      "\n",
      "1. **Total digits at the unit’s place:** \n",
      "   There are 10 possible last digits for any number (0, 1, 2, 3, 4, 5, 6, 7, 8, 9).\n",
      "   Therefore, n(S) = 10.\n",
      "\n",
      "2. **Valid last digits (to get 1, 3, 5, or 9):** \n",
      "   The last digit of the product will end up being among 1, 3, 5, or 9 if the selected numbers also end with either 1, 3, 5, or 9. \n",
      "   The possible last digits that can be selected are 1, 3, 5, and 9.\n",
      "   Therefore, n(A) = 4.\n",
      "\n",
      "3. **Probability of selecting 1, 3, 5, or 9 for each number:**\n",
      "   The probability of selecting a digit from set A (1, 3, 5, or 9) is:\n",
      "   \\[\n",
      "   P(A) = \\frac{n(A)}{n(S)} = \\frac{4}{10} = \\frac{2}{5}\n",
      "   \\]\n",
      "\n",
      "4. **Probability for four numbers:** \n",
      "   Since the selection of numbers is independent, the probability that all four numbers end with 1, 3, 5, or 9 is:\n",
      "   \\[\n",
      "   P(A \\text{ for four numbers}) = \\left(\\frac{2}{5}\\right)^4 = \\frac{16}{625}\n",
      "   \\]\n",
      "\n",
      "Thus, the required probability that the last digit will be 1, 3, 5, or 9 is \\(\\frac{16}{625}\\).\n"
     ]
    }
   ],
   "source": [
    "ps1_sys_prompt = \"You are a problem solver. Given the #Question, follow the #User_Instructions to answer the #Question.\"\n",
    "ps1_user_promt = \"#User_Instructions: Consider the following example with solution to answer the #Question:\\\n",
    "\\nExample: If any four numbers are selected and they are multiplied, \\\n",
    "then the probability that the last digit will be 2, 3, 6, or 7 is ___________.\\\n",
    "\\nSolution: Let\\'s think step by step. The total number of digits in any number at the unit’s place is 10. \\\n",
    "\\nTherefore, n(S) = 10\\\n",
    "\\nIf the last digit is 1, 3, 5 or 7, then it is necessary that the last digit in each number must be 1, 3, 5 or 7.\\\n",
    "\\nTherefore, n(A) = 4\\\n",
    "\\nP(A) = 4/10 = 2/5\\\n",
    "\\nHence, the required probability is (2/5)^4 = 16/625.\\\n",
    "\\n \\\n",
    "#Question: If any four numbers are selected, and they are multiplied, then the probability that the last digit will be 1, 3, 5 or 9 is ___________.\"\n",
    "\n",
    "ps1_prompt_worker = TextWorker(client=client, model_id=\"gpt-4o-mini\", sys_prompt=ps1_sys_prompt, user_prompt=ps1_user_promt)\n",
    "ps1_prompt_op = ps1_prompt_worker.get_output()\n",
    "print(ps1_prompt_op)"
   ]
  },
  {
   "cell_type": "markdown",
   "id": "72d092be-3f17-4546-947f-cf07983c356b",
   "metadata": {},
   "source": [
    "# Who am I?\n",
    "\n",
    "## Sherlock Holmes\n",
    "<img src=\"sherlock-holmes.png\" alt=\"Drawing\" style=\"width: 200px;\"/>\n",
    "\n",
    "### Clues: \n",
    "1) I like to solve mysteries.\n",
    "2) I speak british-english.\n",
    "3) I wear a hat.\n",
    "\n",
    "## Inspector Gadget\n",
    "<img src=\"inspector_gadget.jpg\" alt=\"Drawing\" style=\"width: 200px;\"/>\n",
    "\n",
    "### Clues:\n",
    "1) I like solving mysteries.\n",
    "2) I have gadgets in my hat.\n",
    "3) I work for a secret police service.\n",
    "   \n",
    "## James Bond\n",
    "<img src=\"james-bond-jetpack.jpeg\" alt=\"Drawing\" style=\"width: 200px;\"/>\n",
    "\n",
    "### Clues:\n",
    "1) I like going on spy operations.\n",
    "2) I have a jetpack hat.\n",
    "3) I work for the British government. \n",
    "\n",
    "## Homer Simpson\n",
    "<img src=\"homer-simpson.jpg\" alt=\"Drawing\" style=\"width: 200px;\"/>\n",
    "\n",
    "### Clues:\n",
    "1) My first name is Homer.\n",
    "2) I am a middle-aged guy.\n",
    "4) I like to play guitar. \n",
    "\n",
    "## Homer-I\n",
    "<img src=\"Homer.jpg\" alt=\"Drawing\" style=\"width: 200px;\"/>\n",
    "\n",
    "### Clues:\n",
    "1) My first name is Homer.\n",
    "2) I am a middle-aged guy.\n",
    "3) I like poems. "
   ]
  },
  {
   "cell_type": "markdown",
   "id": "80df7c33-059c-4d34-a286-177ffc795807",
   "metadata": {},
   "source": [
    "## Zero-Shot Prompting"
   ]
  },
  {
   "cell_type": "code",
   "execution_count": 42,
   "id": "6e9ae179-3ae5-457c-b8d6-9e32a340e5b6",
   "metadata": {},
   "outputs": [
    {
     "name": "stdout",
     "output_type": "stream",
     "text": [
      "Based on your clues, a fitting guess for your name could be \"Jack.\" It evokes a sense of adventure and fits well with themes of mystery and secretive work, much like characters who might operate in espionage or detective roles.\n"
     ]
    }
   ],
   "source": [
    "wai_sys_prompt = \"You are a name guesser. Use the #User_Clues of a personality to make a best guess of its name.\"\n",
    "wai_user_promopt = \"#User_Clues: \\\n",
    "\\n1) I like solving mysteries.\\\n",
    "\\n2) I have gadgets in my hat.\\\n",
    "\\n3) I work for a secret police service.\"\n",
    "\n",
    "\n",
    "wai_prompt_worker = TextWorker(client=client, model_id=\"gpt-4o-mini\", sys_prompt=wai_sys_prompt, user_prompt=wai_user_promopt)\n",
    "wai_prompt_op = wai_prompt_worker.get_output()\n",
    "print(wai_prompt_op)\n"
   ]
  },
  {
   "cell_type": "markdown",
   "id": "930182b6-bae4-4b52-b2e7-764ea7fb4ce5",
   "metadata": {},
   "source": [
    "## Retrieval Augmented Generation(RAG)\n",
    "\n",
    "LLMs are trained on vast amounts of data, which leads to too much pre-trained knowledge and reduced focus on smaller pieces of information. \n",
    "\n",
    "This is why many companies use RAG: to amplify the attention weights of the relevant information using external data. \n",
    "\n",
    "### Database: \n",
    "|Sherlock Holmes|Inspector Gadget|James Bond|Homer Simpson|Homer-I|\n",
    "|---|---|---|---|---|\n",
    "|British|American|British|American|Greek|\n",
    "|Wearing a hat|Wearing a gadget hat|Is wearing a jetpack hat|Wearing a white shirt and blue pants|Wearing a headband|\n",
    "|Likes to solve mysteries|Likes to solve mysteries|Likes secret spy operations|Likes to play guitar|Likes to write poems|\n",
    "|Detective|Secret Police Officer|Secret Spy Agent|Nuclear Safety Inspector|Freelance Poet|"
   ]
  },
  {
   "cell_type": "code",
   "execution_count": 43,
   "id": "1f68804f-acf6-41ac-b581-7b7e2bcac343",
   "metadata": {},
   "outputs": [
    {
     "name": "stdout",
     "output_type": "stream",
     "text": [
      "Based on the clues provided, the best guess for your name is Inspector Gadget.\n"
     ]
    }
   ],
   "source": [
    "wai_rag_sys_prompt = \"You are a name guesser. Use the #User_Clues of a personality to make a best guess of its name \\\n",
    "using the #Relevant_Information\"\n",
    "wai_rag_user_promopt = \"#User_Clues: \\\n",
    "\\n1) I like solving mysteries.\\\n",
    "\\n2) I have gadgets in my hat.\\\n",
    "\\n3) I work for a secret police service.\\\n",
    "\\n\\\n",
    "\\n\\\n",
    "#Relevant_Information:\\\n",
    "\\n\\tName: Inspector Gadget, \\tIdentification: Wearing a gadget hat, \\tInterests: Likes to solve mysteries,\\t Occupation:Secret Police officer\\\n",
    "\\n\\tName: James Bond, \\tIdentification: Is wearing a jetpack hat, \\tInterests: Likes secret spy operations,\\t Occupation:Secret Spy Agent\"\n",
    "\n",
    "\n",
    "wai_rag_prompt_worker = TextWorker(client=client, model_id=\"gpt-4o-mini\", sys_prompt=wai_rag_sys_prompt, user_prompt=wai_rag_user_promopt)\n",
    "wai_rag_prompt_op = wai_rag_prompt_worker.get_output()\n",
    "print(wai_rag_prompt_op)"
   ]
  },
  {
   "cell_type": "markdown",
   "id": "c69d14f5-74d0-47c7-b73c-0cad637418b3",
   "metadata": {},
   "source": [
    "# About me?\n",
    "\n",
    "## Facts:\n",
    "Hi, \n",
    "\n",
    "This is Hansel and Gretel Chen, not from the story lol, we are real people. We live with our father and step-mom. Our hobbies are camping and hiking, we love life in the woods and our favorite food is candy and pie. Our father is a really nice guy, his favourite hobby is wood cutting; we can't speak much about our step-mom we're still getting to know her. We like living here in manhattan, there is so much good food around. \n",
    "\n",
    "## User_Text\n",
    "\n",
    "Once upon a time, nestled within the towering skyscrapers of Manhattan, there lived two outgoing siblings, Hansel and Gretel Chen. Their father, a renowned Broadway set designer, possessed an unparalleled talent for crafting majestic wooden structures. Manhattan was a far cry from an enchanted forest, but their apartment was often filled with the smell of fresh timber wood carvings, thanks to their father's passion. Despite their urban setting, the Chens had a profound love for the wilderness.\n",
    "\n",
    "Hansel and Gretel had recently adjusted to having a new family member—their step-mom, Magda. Magda claimed she was a descendant of Amatarasu, the Japanese sun goddess, rumored to have a mystical ability to bake pies that could light up an entire room with warmth. As such, she had a distinctive way of bringing a special glow to any pie she baked.\n",
    "\n",
    "One summer, the Chen family decided to leave the bustling streets of New York behind for a much-anticipated camping trip to the pristine wilderness of Alaska. The moment they set foot in the woods, Hansel and Gretel's spirits soared. The sibling adventurers were armed with just a compass, a pack full of candy, and a mysterious pie from Magda that had a peculiar, golden hue. It was said that eating the pie under an Alaskan twilight could communicate with the ancient spirits of the land.\n",
    "\n",
    "As day turned to night, the forest whispered secrets in the breeze, and the stars danced to melodies unheard by human ears. Hansel and Gretel, fueled by courage and a touch of Magda’s magical pie, discovered new, uncharted paths through dense woods and shadowy clearings. The peculiar pie's aroma seemed to guide them deeper, promising tales of enchanted creatures and ancient legends.\n",
    "\n",
    "Throughout their expedition, the siblings marveled at the wild beauty around them. They listened to the harmonies of howling wolves, and encountered a mystical raven who—according to local myth—had the power to alter weather with the flap of its wings.\n",
    "\n",
    "But their greatest discovery was an age-old cabin, rumoured to be built by the first Inuit settlers during a total solar eclipse. Here, Hansel and Gretel felt the warmth of family even in the middle of a chilly Alaskan night, thanks to a mysterious fire that burned eternal within the cabin, said to be ignited by the first sunrise Amatarasu herself bestowed upon Earth.\n",
    "\n",
    "Hansel and Gretel's adventure in Alaska remained their most cherished memory, one they would recount with wonder, always wondering if it was the pie, the land, or a little bit of both that allowed magic into their lives during those enchanted forest nights."
   ]
  },
  {
   "cell_type": "code",
   "execution_count": 76,
   "id": "95e7b87a-153b-4516-8066-6514b13a8f84",
   "metadata": {},
   "outputs": [
    {
     "name": "stdout",
     "output_type": "stream",
     "text": [
      "**Hansel Chen** and **Gretel Chen** live in a damp little cottage on the dark side of Long Lost Wood in Germany.\n"
     ]
    }
   ],
   "source": [
    "am_sys_prompt = \"Answer the #User_Question using the information from #User_Text\"\n",
    "am_user_promopt = \"#User_Text: \\\n",
    "Title: P.S. 340 - The Sixth Avenue Elementary School Play, Manhattan (Hansel and Gretel)\\\n",
    "\\nStory: Hansel and Gretel lived in a damp little cottage on the dark side of Long Lost Wood of Germany. Their mother had died one frosty day, so their father had married a new wife who was NOT as sweet as she seemed. In fact, she was as bad as a rotten apple. \\\"Your children eat too much,\\\" she grumbled one day to her husband, as Hansel and Gretel shared a single slice of stale bread. \\\"You must lose them in the wood and let the wild creatures care for them.\\\"\\\n",
    "\\n\\\n",
    "Their father was shocked. \\\"If I do that, the wolves will eat them,\\\" he protested. \\\"And if you don\\'t, we will all die of hunger,\\\" snapped the nasty stepmother. \\\"Take them away tonight.\\\" As soon as the first star shone, the children\\'s father led them along tangled pathways to a crooked tree. \\\"My dears,\\\" he groaned, \\\"wait here while I search for firewood.\\\" Then away he stumbled, back to his damp little cottage and his cruel wife. Quite soon, wolves began to howl and the children shivered. \\\"We have walked too far,\\\" sighed Gretel. \\\"Our father is lost, and so are we.\\\" \\\"Cheer up, little sister,\\\" said Hansel with a smile. \\\"I heard our Stepmother\\'s horrid plan, so I have marked every twist of the path with a pure white pebble.\\\" And there in the starlight Gretel saw a line of shining stones!\\\n",
    "\\n\\\n",
    "The children followed the white trail, and by sunrise they were safely home – but their stepmother\\'s smile was as cold as winter rain. \\\"Husband,\\\" she hissed. \\\"See how your two pests torment me. Tonight you must lose them forever.\\\" She gave each child a morsel of stale bread, and when their father led them through Long Lost Wood they followed him sadly. After many miles, he mopped his eyes and said, \\\"Wait here, my dears, while I search for ripe blackberries.\\\"\\\n",
    "\\n\\\n",
    "They knew he would never come back, but when the wolves howled, Hansel smiled and said, \\\"Cheer up, little sister. This time I have scattered a trail of small white breadcrumbs.\\\" Alas! There was no trail to be seen – hungry birds had stolen EVERY crumb. So the two children slept on a bed of brown leaves, and in their dreams they saw a white dove who circled above them, calling: \\\"Follow me! Follow me!\\\" \\\n",
    "\\n\\\n",
    "When they woke in the misty morning, there was the white dove fluttering away! \\\"Let\\'s follow her,\\\" said Hansel. \\\"Things can\\'t get any worse.\\\" Almost at once, the children saw a wonderful cottage made from gingerbread and sweeties. Their mouths watered, and soon they were nibbling delicious chunks of wall and windowsill. Suddenly, a sugar-sweet voice said, \\\"Come in my dears and warm yourselves.\\\" An old lady stood by the door, and the children forgot to be frightened. In they skipped, and BANG went the door. They were trapped inside a witch\\'s house!\\\n",
    "\\n\\\n",
    "Now her voice became as hard as a seaside rock. \\\"Got you!\\\" she cackled, locking Hansel inside an iron cage. \\\"Boy, you will grow plump and juicy. Girl, you will be my slave.\\\" Poor Hansel. The witch fattened him up until he was as round as a gobstopper. Poor Gretel. She ate nothing but scraps from the cat\\'s saucer. At last the witch shrieked, \\\"Girl! Build up the fire. I want Boy Pie for my tea.\\\"I\\'m very sorry,\\\" said Gretel politely, \\\"but I have never cooked a Boy Pie before. Do you think the\\\n",
    "oven is hot enough?\\\n",
    "\\n\\\n",
    "The witch stamped her foot and peered into the oven. \\\"It\\'s HOT, HOT, HOT!\\\" she screamed, and no wonder… Gretel had pushed her inside and slammed the door! In moments, Hansel was free. The two children grabbed the witch\\'s treasure and raced outside, to find the white dove waiting for them. Of course, she led them home by the shortest way, and when their father saw them, his smile was as warm as the summer sun. (Astonishingly, Hansel and Gretel\\'s horrible stepmother had vanished that very day – while all that remained of the wicked witch was one smoky gingerbread biscuit.)\\\n",
    "\\n\\nActors:\\tHansel: Played by Hansel Chen, \\tGretel: Played by Gretel Chen\\\n",
    "\\n\\nSchool: P.S. 340 - The Sixth Avenue Elementary School\\\n",
    "#User_Question: Where do **Hansel Chen** and **Gretel Chen** live?\"\n",
    "\n",
    "\n",
    "am_prompt_worker = TextWorker(client=client, model_id=\"gpt-4o-mini\", sys_prompt=am_sys_prompt, user_prompt=am_user_promopt)\n",
    "am_prompt_op = am_prompt_worker.get_output()\n",
    "print(am_prompt_op)\n"
   ]
  },
  {
   "cell_type": "markdown",
   "id": "517179ca-66e6-4c5d-9381-e04a0446776d",
   "metadata": {},
   "source": [
    "## System2Attention Prompting\n",
    "On the contrary to RAG, where extra data is added to modulate attention weights to relevant information, here the unrelated information is removed from the text which can cause hallucinations."
   ]
  },
  {
   "cell_type": "code",
   "execution_count": 79,
   "id": "2a49fdc2-69dd-4a5a-8da8-ccdf6e5f95bf",
   "metadata": {},
   "outputs": [
    {
     "name": "stdout",
     "output_type": "stream",
     "text": [
      "#Summary\n",
      "\n",
      "- **Title**: P.S. 340 - The Sixth Avenue Elementary School Play, Manhattan (Hansel and Gretel)\n",
      "  \n",
      "- **Setting**: \n",
      "  - A damp cottage in the dark Long Lost Wood of Germany.\n",
      "\n",
      "- **Characters**:\n",
      "  - **Hansel**: Brother of Gretel, resourceful and caring.\n",
      "  - **Gretel**: Sister of Hansel, innocent and hopeful.\n",
      "  - **Stepmother**: Cruel and manipulative, compares children to pests.\n",
      "  - **Father**: Initially compliant with the stepmother's wishes but concerned about the children's safety.\n",
      "  - **Witch**: Antagonist who traps Hansel and plans to eat him.\n",
      "\n",
      "- **Plot Summary**:\n",
      "  - Hansel and Gretel's mother has died, leading their father to marry a cruel stepmother.\n",
      "  - The stepmother insists that the father abandon the children in the woods due to their supposedly excessive appetite.\n",
      "  - The father struggles with this decision but ultimately leads Hansel and Gretel into the woods after leaving them alone under the pretense of searching for firewood.\n",
      "  - **First Journey**: Hansel uses white pebbles to mark the path back home, allowing them to return safely.\n",
      "  - The stepmother's cold demeanor upon their return prompts her to suggest abandoning them again.\n",
      "  - On the second journey, Hansel attempts to use breadcrumbs to mark their path, but birds eat them, leaving them lost in the woods.\n",
      "  - They encounter a white dove in their dreams, which they decide to follow upon waking.\n",
      "  - The children find a gingerbread house and, seduced by its sweetness, they enter but are trapped by a witch.\n",
      "  - Hansel is caged for fattening, while Gretel is mistreated by the witch.\n",
      "  - Gretel cleverly tricks the witch into checking the oven and pushes her inside, freeing Hansel.\n",
      "  - They escape with the witch's treasure and the white dove leads them back home.\n",
      "  - The children return to their father, who is overjoyed to see them, while the stepmother has mysteriously vanished.\n",
      "\n",
      "- **Cast**:\n",
      "  - Hansel: Played by Hansel Chen\n",
      "  - Gretel: Played by Gretel Chen\n",
      "\n",
      "- **School**: P.S. 340 - The Sixth Avenue Elementary School\n"
     ]
    }
   ],
   "source": [
    "s2am_sys_prompt = \"You are a information extractor. Given the #User_Text, generate a detailed #Summary of the #User_Text in bullet points.\"\n",
    "s2am_user_promopt = \"#User_Text: \\\n",
    "Title: P.S. 340 - The Sixth Avenue Elementary School Play, Manhattan (Hansel and Gretel)\\\n",
    "\\nStory: Hansel and Gretel lived in a damp little cottage on the dark side of Long Lost Wood of Germany. Their mother had died one frosty day, so their father had married a new wife who was NOT as sweet as she seemed. In fact, she was as bad as a rotten apple. \\\"Your children eat too much,\\\" she grumbled one day to her husband, as Hansel and Gretel shared a single slice of stale bread. \\\"You must lose them in the wood and let the wild creatures care for them.\\\"\\\n",
    "\\n\\\n",
    "Their father was shocked. \\\"If I do that, the wolves will eat them,\\\" he protested. \\\"And if you don\\'t, we will all die of hunger,\\\" snapped the nasty stepmother. \\\"Take them away tonight.\\\" As soon as the first star shone, the children\\'s father led them along tangled pathways to a crooked tree. \\\"My dears,\\\" he groaned, \\\"wait here while I search for firewood.\\\" Then away he stumbled, back to his damp little cottage and his cruel wife. Quite soon, wolves began to howl and the children shivered. \\\"We have walked too far,\\\" sighed Gretel. \\\"Our father is lost, and so are we.\\\" \\\"Cheer up, little sister,\\\" said Hansel with a smile. \\\"I heard our Stepmother\\'s horrid plan, so I have marked every twist of the path with a pure white pebble.\\\" And there in the starlight Gretel saw a line of shining stones!\\\n",
    "\\n\\\n",
    "The children followed the white trail, and by sunrise they were safely home – but their stepmother\\'s smile was as cold as winter rain. \\\"Husband,\\\" she hissed. \\\"See how your two pests torment me. Tonight you must lose them forever.\\\" She gave each child a morsel of stale bread, and when their father led them through Long Lost Wood they followed him sadly. After many miles, he mopped his eyes and said, \\\"Wait here, my dears, while I search for ripe blackberries.\\\"\\\n",
    "\\n\\\n",
    "They knew he would never come back, but when the wolves howled, Hansel smiled and said, \\\"Cheer up, little sister. This time I have scattered a trail of small white breadcrumbs.\\\" Alas! There was no trail to be seen – hungry birds had stolen EVERY crumb. So the two children slept on a bed of brown leaves, and in their dreams they saw a white dove who circled above them, calling: \\\"Follow me! Follow me!\\\" \\\n",
    "\\n\\\n",
    "When they woke in the misty morning, there was the white dove fluttering away! \\\"Let\\'s follow her,\\\" said Hansel. \\\"Things can\\'t get any worse.\\\" Almost at once, the children saw a wonderful cottage made from gingerbread and sweeties. Their mouths watered, and soon they were nibbling delicious chunks of wall and windowsill. Suddenly, a sugar-sweet voice said, \\\"Come in my dears and warm yourselves.\\\" An old lady stood by the door, and the children forgot to be frightened. In they skipped, and BANG went the door. They were trapped inside a witch\\'s house!\\\n",
    "\\n\\\n",
    "Now her voice became as hard as a seaside rock. \\\"Got you!\\\" she cackled, locking Hansel inside an iron cage. \\\"Boy, you will grow plump and juicy. Girl, you will be my slave.\\\" Poor Hansel. The witch fattened him up until he was as round as a gobstopper. Poor Gretel. She ate nothing but scraps from the cat\\'s saucer. At last the witch shrieked, \\\"Girl! Build up the fire. I want Boy Pie for my tea.\\\"I\\'m very sorry,\\\" said Gretel politely, \\\"but I have never cooked a Boy Pie before. Do you think the\\\n",
    "oven is hot enough?\\\n",
    "\\n\\\n",
    "The witch stamped her foot and peered into the oven. \\\"It\\'s HOT, HOT, HOT!\\\" she screamed, and no wonder… Gretel had pushed her inside and slammed the door! In moments, Hansel was free. The two children grabbed the witch\\'s treasure and raced outside, to find the white dove waiting for them. Of course, she led them home by the shortest way, and when their father saw them, his smile was as warm as the summer sun. (Astonishingly, Hansel and Gretel\\'s horrible stepmother had vanished that very day – while all that remained of the wicked witch was one smoky gingerbread biscuit.)\\\n",
    "\\n\\nActors:\\tHansel: Played by Hansel Chen, \\tGretel: Played by Gretel Chen\\\n",
    "\\n\\nSchool: P.S. 340 - The Sixth Avenue Elementary School\\\n",
    "\"\n",
    "\n",
    "s2am_prompt_worker = TextWorker(client=client, model_id=\"gpt-4o-mini\", sys_prompt=s2am_sys_prompt, user_prompt=s2am_user_promopt)\n",
    "s2am_prompt_op = s2am_prompt_worker.get_output()\n",
    "print(s2am_prompt_op)"
   ]
  },
  {
   "cell_type": "code",
   "execution_count": 80,
   "id": "440aeaf8-b686-40a5-b2e8-7c557f57ca51",
   "metadata": {},
   "outputs": [
    {
     "name": "stdout",
     "output_type": "stream",
     "text": [
      "- **Cast**:\n",
      "  - Hansel: Played by Hansel Chen\n",
      "  - Gretel: Played by Gretel Chen\n",
      "\n",
      "- **School**: P.S. 340 - The Sixth Avenue Elementary School\n",
      "\n",
      "(Note: The summary does not specify where Hansel Chen and Gretel Chen live.)\n"
     ]
    }
   ],
   "source": [
    "s2a1_sys_prompt = \"You are an Information Extractor. Given the #User_Question, extract all the relevant bullet points from #Summary.\"\n",
    "s2a1_user_promopt = \"#Summary:\\n\\\n",
    "\\n\\\n",
    "- **Title**: P.S. 340 - The Sixth Avenue Elementary School Play, Manhattan (Hansel and Gretel)\\n\\\n",
    "\\n\\\n",
    "- **Setting**: \\n\\\n",
    "  - A damp cottage in the dark Long Lost Wood of Germany.\\n\\\n",
    "\\n\\\n",
    "- **Characters**:\\n\\\n",
    "  - **Hansel**: Brother of Gretel, resourceful and caring.\\n\\\n",
    "  - **Gretel**: Sister of Hansel, innocent and hopeful.\\n\\\n",
    "  - **Stepmother**: Cruel and manipulative, compares children to pests.\\n\\\n",
    "  - **Father**: Initially compliant with the stepmother\\'s wishes but concerned about the children's safety.\\n\\\n",
    "  - **Witch**: Antagonist who traps Hansel and plans to eat him.\\n\\\n",
    "\\n\\\n",
    "- **Plot Summary**:\\n\\\n",
    "  - Hansel and Gretel's mother has died, leading their father to marry a cruel stepmother.\\n\\\n",
    "  - The stepmother insists that the father abandon the children in the woods due to their supposedly excessive appetite.\\n\\\n",
    "  - The father struggles with this decision but ultimately leads Hansel and Gretel into the woods after leaving them alone under the pretense of searching for firewood.\\n\\\n",
    "  - **First Journey**: Hansel uses white pebbles to mark the path back home, allowing them to return safely.\\n\\\n",
    "  - The stepmother's cold demeanor upon their return prompts her to suggest abandoning them again.\\n\\\n",
    "  - On the second journey, Hansel attempts to use breadcrumbs to mark their path, but birds eat them, leaving them lost in the woods.\\n\\\n",
    "  - They encounter a white dove in their dreams, which they decide to follow upon waking.\\n\\\n",
    "  - The children find a gingerbread house and, seduced by its sweetness, they enter but are trapped by a witch.\\n\\\n",
    "  - Hansel is caged for fattening, while Gretel is mistreated by the witch.\\n\\\n",
    "  - Gretel cleverly tricks the witch into checking the oven and pushes her inside, freeing Hansel.\\n\\\n",
    "  - They escape with the witch's treasure and the white dove leads them back home.\\n\\\n",
    "  - The children return to their father, who is overjoyed to see them, while the stepmother has mysteriously vanished.\\n\\\n",
    "\\n\\\n",
    "- **Cast**:\\n\\\n",
    "  - Hansel: Played by Hansel Chen\\n\\\n",
    "  - Gretel: Played by Gretel Chen\\n\\\n",
    "\\n\\\n",
    "- **School**: P.S. 340 - The Sixth Avenue Elementary School\\n\\\n",
    "\\n\\\n",
    "#User_Question: Where do **Hansel Chen** and **Gretel Chen** live?\"\n",
    "\n",
    "\n",
    "s2a1_prompt_worker = TextWorker(client=client, model_id=\"gpt-4o-mini\", sys_prompt=s2a1_sys_prompt, user_prompt=s2a1_user_promopt)\n",
    "s2a1_prompt_op = s2a1_prompt_worker.get_output()\n",
    "print(s2a1_prompt_op)"
   ]
  },
  {
   "cell_type": "code",
   "execution_count": 81,
   "id": "2ab0dec9-5a9c-4562-8ec4-2fd2cb8b09ce",
   "metadata": {},
   "outputs": [
    {
     "name": "stdout",
     "output_type": "stream",
     "text": [
      "Not enough information.\n"
     ]
    }
   ],
   "source": [
    "s2a2_sys_prompt = \"Given the #Relevant_Information and #User_Question. \\\n",
    "If the #Relevant_Information has substantial evidence to answer the #User_Question, give the #Answer based on the #Relevant_Information, \\\n",
    "if not give the #Answer as not enough information.\"\n",
    "s2a2_user_promopt = \"#Relevant_Information:\\\n",
    "- **Cast**:\\n\\\n",
    "  - Hansel: Played by Hansel Chen\\n\\\n",
    "  - Gretel: Played by Gretel Chen\\n\\\n",
    "\\n\\\n",
    "- **School**: P.S. 340 - The Sixth Avenue Elementary School\\n\\\n",
    "\\n\\\n",
    "(Note: The summary does not specify where Hansel Chen and Gretel Chen live.)\\n\\\n",
    "\\n\\\n",
    "\\n\\\n",
    "#User_Question: What unique power did Magda claim to have?\"\n",
    "\n",
    "\n",
    "s2a2_prompt_worker = TextWorker(client=client, model_id=\"gpt-4o-mini\", sys_prompt=s2a2_sys_prompt, user_prompt=s2a2_user_promopt)\n",
    "s2a2_prompt_op = s2a2_prompt_worker.get_output()\n",
    "print(s2a2_prompt_op)"
   ]
  },
  {
   "cell_type": "markdown",
   "id": "0c733523-59b9-4365-89ef-6d9f716ba774",
   "metadata": {},
   "source": [
    "# Text-gen prompt(not the part of presentation)"
   ]
  },
  {
   "cell_type": "code",
   "execution_count": 24,
   "id": "ad06fe41-2667-4785-8269-918ab60e5db3",
   "metadata": {},
   "outputs": [
    {
     "name": "stdout",
     "output_type": "stream",
     "text": [
      "Title: Hansel and Gretel Chen's Arctic Adventure\n",
      "\n",
      "Once upon a crisp autumn morning, Hansel and Gretel Chen, two adventurous siblings and passionate campers, set their sights on the wild, untouched woods of Alaska. Leaving their bustling New York City home behind, they flew with their father and new stepmother to the land of endless forests, hoping to indulge in their shared love of hiking and camping.\n",
      "\n",
      "Their father, a rugged man in spirit, always carried a trusty axe to satiate his enthusiasm for woodcutting, a hobby which often led to hours of bonding with Hansel. Their stepmom, however, remained a mystery wrapped in silence. Her presence was often like a shadow, lingering but not intrusive.\n",
      "\n",
      "One day, amidst the tall, snow-draped trees, Hansel and Gretel ventured deep into the forest, bundled in their warmest clothes. They started by leaving a trail of candy wrappers (their favorite treat) to ensure they could find their way back. Although the candy was fleeting pleasure, the scents of the forest seemed to call them further.\n",
      "\n",
      "The rustling leaves whispered stories of wilderness adventures, coaxing the children further than they had ever dared to wander. The friendly woodland creatures they encountered along the way seemed to assure them of welcome. But as the sun dipped below the horizon, their trail had vanished into the snow, and a pang of worry struck them.\n",
      "\n",
      "Seeking refuge, the siblings stumbled upon a curious cabin nestled in a clearing. Its walls appeared festooned with dulcet candy and fruit pies—a sugary haven that tempted them despite its ominous aura. Too hungry and tired to resist, Hansel and Gretel cautiously knocked on the door.\n",
      "\n",
      "To their surprise, the cabin was not empty. A kind witch, Aurora, lived inside, eager to welcome them with warm smiles and even warmer pies. Aurora claimed she had been expecting them and knew of their affinity for such treats. Unbeknownst to them, her magical ability was not to deceive but to guide lost souls back to safety.\n",
      "\n",
      "When morning light spilled across the sky, Aurora gave the children a map to guide them home. With grateful hearts and a newfound courage, Hansel and Gretel retraced their steps, swearing to never underestimate the Alaskan wilds, or the kindness hidden in unexpected corners of the woods again.\n",
      "\n",
      "Questions:\n",
      "\n",
      "1. Where did Hansel and Gretel Chen decide to go on their camping adventure?\n",
      "   - Answer: They decided to go to Alaska for their camping adventure.\n",
      "\n",
      "2. What unique method did Hansel and Gretel use to track their path in the forest?\n",
      "   - Answer: They left a trail of candy wrappers to track their path.\n",
      "\n",
      "3. What hobby is Hansel and Gretel's father fond of, which allows him to bond with Hansel?\n",
      "   - Answer: Hansel and Gretel's father is fond of woodcutting.\n",
      "\n",
      "4. Describe the cabin Hansel and Gretel found in the forest.\n",
      "   - Answer: The cabin appeared festooned with candy and fruit pies, a sugary haven in the forest.\n",
      "\n",
      "5. Who did Hansel and Gretel meet in the cabin, and what was her role?\n",
      "   - Answer: They met a kind witch named Aurora who helped guide them back to safety.\n"
     ]
    }
   ],
   "source": [
    "s_sys_prompt = \"You are a story writer. Given the #User_Text, \\\n",
    "use this information to write a  story and a set of questions using the following guidelines:\\n\\\n",
    "\\t- The questions should focus on the story\\\n",
    "\\t- The story and question pairs should be able to cause hallucinations when answered by LLMs.\\\n",
    "\\t- Provide the Questions with correct answers.\"\n",
    "\n",
    "s_user_promopt = \"#User_Text: Hi, this is Hansel and Gretel Chen. We live with our father and stepmom in Manhattan. \\\n",
    "Our hobbies are camping and hiking, we love life in the woods, and our favorite foods are candy and pie. \\\n",
    "Our father is a nice guy, and his favorite hobby is wood cutting; \\\n",
    "We can't speak much about our stepmom. They're still getting to know her. \\\n",
    "\\nToday we came on a camping trip to Alaska and love life here in the woods.\"\n",
    "\n",
    "\n",
    "s_prompt_worker = TextWorker(client=client, model_id=\"gpt-4o\", sys_prompt=s_sys_prompt, user_prompt=s_user_promopt)\n",
    "s_prompt_op = s_prompt_worker.get_output()\n",
    "print(s_prompt_op)\n"
   ]
  },
  {
   "cell_type": "markdown",
   "id": "98a67e99-9a53-4840-ae9a-511cff04d1f5",
   "metadata": {},
   "source": []
  }
 ],
 "metadata": {
  "kernelspec": {
   "display_name": "Python 3 (ipykernel)",
   "language": "python",
   "name": "python3"
  },
  "language_info": {
   "codemirror_mode": {
    "name": "ipython",
    "version": 3
   },
   "file_extension": ".py",
   "mimetype": "text/x-python",
   "name": "python",
   "nbconvert_exporter": "python",
   "pygments_lexer": "ipython3",
   "version": "3.10.13"
  }
 },
 "nbformat": 4,
 "nbformat_minor": 5
}
