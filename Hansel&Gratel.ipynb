{
 "cells": [
  {
   "cell_type": "markdown",
   "id": "b437d9fe-04d3-4b8b-8cfd-50f1ceeecfb9",
   "metadata": {},
   "source": [
    "# Hansel & Gratel journey through Manhattan using Prompt Engineering\n",
    "\n",
    "## Capter 1: Manhatten House\n",
    "\n",
    "Once upon a time, a brother and sister named Hansel and Gretel moved into an apartment near Union Square(14th E 14th St) with their father and mother, who were software developers. \n",
    "\n",
    "The father and mother are always busy with their work and have very little time to spend with their kids. Given the amount of \"How to Program with AI\" books in their house, the brother and sister developed an interest in using LLMs. \n",
    "\n",
    "One day, they both decided to go on a little adventure with the help of an AI assistant their parents built for them.  "
   ]
  },
  {
   "cell_type": "markdown",
   "id": "e01d75f4-b33e-433c-a61d-c42a5e88613d",
   "metadata": {},
   "source": [
    "## Chapter 2: Home to Hex & Company\n",
    "\n",
    "One day, they both decided to visit Hex & Company(boardgame cafe), and they both wanted to make some stops at: \n",
    "1) Book Store.\n",
    "2) Pizza Restaurant.\n",
    "3) Art Store.\n",
    "4) Ice Cream Store.\n",
    "\n",
    "Hansel and Gretel are picky on certain things. These are their requirements. \n",
    "\n",
    "Hansel's Requirements:\n",
    "1) Brick oven white pizza < 30$(like Neapolitan-Style fungi pizza).\n",
    "2) Buy an old classic novel about a young prince(like \"The prince and the pauper\").\n",
    "3) Pastel large color set(like \"Sennelier Soft Pastels - Set of 100\").\n",
    "4) Hansel wants chocolate cookie dough ice cream.\n",
    "\n",
    "Gratel's Requirements:\n",
    "1) Fancy pizza toppings (like grilled eggplant).\n",
    "2) Buy comics (like \"One Piece\").\n",
    "3) Quality Sketch pencil set (like \"Derwent Graphic Pencil Set\").\n",
    "4) Gratel wants chocolate vanilla soft serve. "
   ]
  },
  {
   "cell_type": "code",
   "execution_count": 11,
   "id": "2e3b9e58-b57b-4ba0-81a0-667e460bc5e5",
   "metadata": {},
   "outputs": [],
   "source": [
    "from openai import OpenAI\n",
    "from resumeassistant.operator.worker import ImageWorker, TextWorker\n",
    "import json\n",
    "\n",
    "with open('gpt_key.json', 'r') as file:\n",
    "      data = json.load(file)\n",
    "      api_key = data[\"open_ai_key\"]\n",
    "client = OpenAI(api_key=api_key)"
   ]
  },
  {
   "cell_type": "markdown",
   "id": "a36457f7-db19-41cd-8164-08b8517bfa8f",
   "metadata": {},
   "source": [
    "### Zero-Shot Prompting:\n",
    "A zero-shot prompt technique is where the system is provided with a task prompt with no examples."
   ]
  },
  {
   "cell_type": "code",
   "execution_count": 14,
   "id": "67abc09f-d0a7-498c-8428-1b781e3f4f8c",
   "metadata": {},
   "outputs": [
    {
     "name": "stdout",
     "output_type": "stream",
     "text": [
      "Here are some suggested stops between 14 E 14th St, New York, NY 10003, and 1462 1st Ave., New York, NY 10075, where you can meet your requirements:\n",
      "\n",
      "1. **Brick Oven Pizza Restaurant (cost < $30)**\n",
      "   - **Restaurant:** **Patsy’s Pizzeria**\n",
      "     - **Address:** 318 E 23rd St, New York, NY 10010\n",
      "     - Known for its brick oven pizza with reasonable prices.\n",
      "\n",
      "2. **Bookstore (sells classics and comics)**\n",
      "   - **Store:** **Shakespeare & Co.**\n",
      "     - **Address:** 939 Lexington Ave, New York, NY 10065\n",
      "     - A charming bookstore that offers a wide variety of classics and graphic novels/comics.\n",
      "\n",
      "3. **Store to Buy Pencils and Colors**\n",
      "   - **Store:** **Blick Art Materials**\n",
      "     - **Address:** 1-3 W 8th St, New York, NY 10011\n",
      "     - A well-stocked art supply store where you can find pencils, colors, and various art materials.\n",
      "     \n",
      "4. **Ice Cream Store**\n",
      "   - **Store:** **Van Leeuwen Artisan Ice Cream**\n",
      "     - **Address:** 533 E 5th St, New York, NY 10009\n",
      "     - Known for its delicious ice cream, with a variety of flavors that are sure to satisfy your sweet tooth.\n",
      "\n",
      "### Route Summary:\n",
      "1. Start at **14 E 14th St, New York, NY 10003**.\n",
      "2. Stop at **Patsy’s Pizzeria** for pizza.\n",
      "3. Visit **Shakespeare & Co.** for books.\n",
      "4. Go to **Blick Art Materials** to buy pencils and colors.\n",
      "5. Enjoy some ice cream at **Van Leeuwen Artisan Ice Cream**.\n",
      "6. Finally, make your way to **1462 1st Ave., New York, NY 10075**.\n",
      "\n",
      "This route allows you to meet all your requirements while traveling in a way that’s enjoyable and interesting!\n"
     ]
    }
   ],
   "source": [
    "zero_sys_prompt = \"You are a pathfinder, given the #origin_address and #destinantion_address \\\n",
    "                find the stops that can be made #origin_address and #destinantion_address where the requirements can be purchased.\"\n",
    "zero_user_promopt = \"#origin_address: 14 E 14th St, New York, NY 10003\\n \\\n",
    "#destinantion_address: 1462 1st Ave., New York, NY 10075\\n \\\n",
    "#requirements: I want to make stops at \\\n",
    "        1. Brick oven pizza restaurant cost < 30$. \\\n",
    "        2. Bookstore which sells classics and comics. \\\n",
    "        3. Store to buy pencils and colors. \\\n",
    "        4. ice cream store.\"\n",
    "\n",
    "\n",
    "zero_prompt_worker = TextWorker(client=client, model_id=\"gpt-4o-mini\", sys_prompt=zero_sys_prompt, user_prompt=zero_user_promopt)\n",
    "zero_prompt_op = zero_prompt_worker.get_output()\n",
    "print(zero_prompt_op)"
   ]
  },
  {
   "cell_type": "markdown",
   "id": "2802ab62-2e42-4c65-8504-5456fdc61611",
   "metadata": {},
   "source": [
    "### One-Shot/Few-Shot Prompting\n",
    "In this prompting technique the system is provided with examples to get the desired outcome. "
   ]
  },
  {
   "cell_type": "code",
   "execution_count": 16,
   "id": "8b91be6e-1551-4caf-b9af-ac33843bf820",
   "metadata": {},
   "outputs": [
    {
     "name": "stdout",
     "output_type": "stream",
     "text": [
      "Here’s a route with suggested stops that meet your requirements: \n",
      "\n",
      "### Route Overview:\n",
      "- **Start:** 14 E 14th St, New York, NY 10003\n",
      "- **Destination:** 1462 1st Ave., New York, NY 10075\n",
      "\n",
      "### Suggested Stops:\n",
      "\n",
      "1. **Brick Oven Pizza Restaurant**\n",
      "   - **Name:** Pizzeria Sirenetta\n",
      "   - **Address:** 33 E 1st St, New York, NY 10003\n",
      "   - **Cost:** Dishes are generally under $30.\n",
      "   - **Menu Highlights:** Neapolitan-Style fungi pizza, grilled eggplant pizza.\n",
      "\n",
      "2. **Bookstore Selling Classics and Comics**\n",
      "   - **Name:** Strand Bookstore\n",
      "   - **Address:** 828 Broadway, New York, NY 10003\n",
      "   - **Description:** A renowned independent bookstore that offers a wide selection of classic novels and comic books.\n",
      "   - **Examples Available:** Classic novels such as \"The Prince and the Pauper\" and comics like \"One Piece\".\n",
      "\n",
      "3. **Store to Buy Pencils and Colors**\n",
      "   - **Name:** Blick Art Materials\n",
      "   - **Address:** 200 W 23rd St, New York, NY 10011\n",
      "   - **Description:** One of the largest art supply chains, which carries a variety of pencils and colors.\n",
      "   - **Examples Available:** Sennelier Soft Pastels - Set of 100 and Derwent Graphic Pencil Set.\n",
      "\n",
      "4. **Ice Cream Store**\n",
      "   - **Name:** Ample Hills Creamery\n",
      "   - **Address:** 600 8th Ave, New York, NY 10018\n",
      "   - **Description:** Known for delicious homemade ice cream flavors.\n",
      "   - **Ice Cream Types Available:** Chocolate cookie dough, chocolate vanilla soft serve.\n",
      "\n",
      "### Route Summary:\n",
      "- **Start at:** 14 E 14th St\n",
      "- **Stop 1:** Pizzeria Sirenetta (Brick oven pizza)\n",
      "- **Stop 2:** Strand Bookstore (Books)\n",
      "- **Stop 3:** Blick Art Materials (Pencils/Colors)\n",
      "- **Stop 4:** Ample Hills Creamery (Ice cream)\n",
      "- **Finish at:** 1462 1st Ave.\n",
      "\n",
      "### Note:\n",
      "Please check the opening hours and availability of items at each location in advance, as they may vary.\n"
     ]
    }
   ],
   "source": [
    "ofs_sys_prompt = \"You are a pathfinder, given the #origin_address and #destinantion_address \\\n",
    "                find the stops that can be made #origin_address and #destinantion_address where the requirements can be purchased.\"\n",
    "ofs_user_promopt = \"#origin_address: 14 E 14th St, New York, NY 10003\\n \\\n",
    "#destinantion_address: 1462 1st Ave., New York, NY 10075\\n \\\n",
    "#requirements: I want to make stops at \\\n",
    "        1. Brick oven pizza restaurant cost < 30$. \\\n",
    "            Example: Neapolitan-Style fungi pizza, grilled eggplant pizza \\\n",
    "        2. Bookstore which sells classics and comics. \\\n",
    "            Classic novels example: The Prince and the Pauper, Illiad. \\\n",
    "            Comics example: One Piece, Sword Art Online\\\n",
    "        3. Store to buy pencils and colors. \\\n",
    "            Colors example: Sennelier Soft Pastels - Set of 100 \\\n",
    "            Pencils example: Derwent Graphic Pencil Set \\\n",
    "        4. ice cream store. \\\n",
    "            ice cream types example: chocolate cookie dough, chocolate vanilla soft serve.\"\n",
    "\n",
    "\n",
    "ofs_prompt_worker = TextWorker(client=client, model_id=\"gpt-4o-mini\", sys_prompt=ofs_sys_prompt, user_prompt=ofs_user_promopt)\n",
    "ofs_prompt_op = ofs_prompt_worker.get_output()\n",
    "print(ofs_prompt_op)"
   ]
  },
  {
   "cell_type": "markdown",
   "id": "4c8c3a06-751a-4858-b14b-c95138c02cd9",
   "metadata": {},
   "source": [
    "##Chapter 3: Hansel and Gratel meet Maleficent at Hex & Co. \n",
    "Hansel and Gratel meet the witch Maleficent at Hex & Co who is cheating with her magic to win every game. \n",
    "The brother and sister decide to teach her a lession using their LLM assistant. \n",
    "\n",
    " "
   ]
  }
 ],
 "metadata": {
  "kernelspec": {
   "display_name": "Python [conda env:py3.10] *",
   "language": "python",
   "name": "conda-env-py3.10-py"
  },
  "language_info": {
   "codemirror_mode": {
    "name": "ipython",
    "version": 3
   },
   "file_extension": ".py",
   "mimetype": "text/x-python",
   "name": "python",
   "nbconvert_exporter": "python",
   "pygments_lexer": "ipython3",
   "version": "3.10.13"
  }
 },
 "nbformat": 4,
 "nbformat_minor": 5
}
